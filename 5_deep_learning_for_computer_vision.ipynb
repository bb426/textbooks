{
  "nbformat": 4,
  "nbformat_minor": 0,
  "metadata": {
    "colab": {
      "name": "5_deep_learning_for_computer_vision.ipynb",
      "version": "0.3.2",
      "provenance": [],
      "include_colab_link": true
    },
    "kernelspec": {
      "name": "python3",
      "display_name": "Python 3"
    },
    "accelerator": "GPU"
  },
  "cells": [
    {
      "cell_type": "markdown",
      "metadata": {
        "id": "view-in-github",
        "colab_type": "text"
      },
      "source": [
        "<a href=\"https://colab.research.google.com/github/bb426/textbooks/blob/master/5_deep_learning_for_computer_vision.ipynb\" target=\"_parent\"><img src=\"https://colab.research.google.com/assets/colab-badge.svg\" alt=\"Open In Colab\"/></a>"
      ]
    },
    {
      "cell_type": "code",
      "metadata": {
        "id": "OsCPXnaCL4yf",
        "colab_type": "code",
        "outputId": "e348dc6e-8197-4308-a6a4-1d36e607fbd1",
        "colab": {
          "base_uri": "https://localhost:8080/",
          "height": 35
        }
      },
      "source": [
        "from keras import layers, models, optimizers"
      ],
      "execution_count": 0,
      "outputs": [
        {
          "output_type": "stream",
          "text": [
            "Using TensorFlow backend.\n"
          ],
          "name": "stderr"
        }
      ]
    },
    {
      "cell_type": "markdown",
      "metadata": {
        "id": "Fd1mwfRHRLLp",
        "colab_type": "text"
      },
      "source": [
        "## 5.2 Training a convet from scratch on a small dataset"
      ]
    },
    {
      "cell_type": "markdown",
      "metadata": {
        "id": "6ofQRIDsvwmt",
        "colab_type": "text"
      },
      "source": [
        "### 5.2.3 Building your network"
      ]
    },
    {
      "cell_type": "code",
      "metadata": {
        "id": "TPHIB6WhMVgV",
        "colab_type": "code",
        "colab": {}
      },
      "source": [
        "model = models.Sequential() \n",
        "model.add(layers.Conv2D(32, (3, 3), activation='relu', input_shape=(150, 150, 3))) \n",
        "model.add(layers.MaxPooling2D((2, 2))) \n",
        "model.add(layers.Conv2D(64, (3, 3), activation='relu')) \n",
        "model.add(layers.MaxPooling2D((2, 2))) \n",
        "model.add(layers.Conv2D(128, (3, 3), activation='relu')) \n",
        "model.add(layers.MaxPooling2D((2, 2))) \n",
        "model.add(layers.Conv2D(128, (3, 3), activation='relu')) \n",
        "model.add(layers.MaxPooling2D((2, 2))) \n",
        "model.add(layers.Flatten()) \n",
        "\n",
        "model.add(layers.Dropout(0.5))\n",
        "\n",
        "model.add(layers.Dense(512, activation='relu')) \n",
        "model.add(layers.Dense(1, activation='sigmoid'))"
      ],
      "execution_count": 0,
      "outputs": []
    },
    {
      "cell_type": "code",
      "metadata": {
        "id": "Feb92UYAvTcq",
        "colab_type": "code",
        "colab": {}
      },
      "source": [
        "model.compile(loss='binary_crossentropy',\n",
        "              optimizer=optimizers.RMSprop(lr=1e-4),\n",
        "              metrics=['acc'])"
      ],
      "execution_count": 0,
      "outputs": []
    },
    {
      "cell_type": "markdown",
      "metadata": {
        "id": "GDqkJN-oxEjH",
        "colab_type": "text"
      },
      "source": [
        "### 5.2.4 Data preprocessing"
      ]
    },
    {
      "cell_type": "code",
      "metadata": {
        "id": "OH1nK800xDrB",
        "colab_type": "code",
        "colab": {}
      },
      "source": [
        "from keras.preprocessing.image import ImageDataGenerator"
      ],
      "execution_count": 0,
      "outputs": []
    },
    {
      "cell_type": "code",
      "metadata": {
        "id": "UGwTSGvIxWRw",
        "colab_type": "code",
        "colab": {}
      },
      "source": [
        "train_datagen = ImageDataGenerator(\n",
        "    rescale=1./255,\n",
        "    rotation_range=40,\n",
        "    width_shift_range=0.2,\n",
        "    height_shift_range=0.2,\n",
        "    shear_range=0.2,\n",
        "    zoom_range=0.2,\n",
        "    horizontal_flip=True,\n",
        "    fill_mode='nearest')\n",
        "\n",
        "test_datagen = ImageDataGenerator(rescale=1./255) # Note that the validation data shouldn't be augmented.\n",
        "\n",
        "train_generator = train_datagen.flow_from_directory(\n",
        "    train_dir,\n",
        "    target_size=(150, 150),\n",
        "    batch_size=20,\n",
        "    class_mode='binary')\n",
        "\n",
        "validation_generator = test_datagen.flow_from_directory(\n",
        "    validation_dir,\n",
        "    target_size=(150, 150),\n",
        "    batch_size=20,\n",
        "    class_mode='binary')"
      ],
      "execution_count": 0,
      "outputs": []
    },
    {
      "cell_type": "code",
      "metadata": {
        "id": "rr2nWZ0e0M-0",
        "colab_type": "code",
        "colab": {}
      },
      "source": [
        "history = model.fit_generator(train_generator,\n",
        "                              steps_per_epoch=100,\n",
        "                              epochs=30,\n",
        "                              validation_data=validation_generator,\n",
        "                              validation_steps=50)"
      ],
      "execution_count": 0,
      "outputs": []
    },
    {
      "cell_type": "code",
      "metadata": {
        "id": "jbVrzn590S20",
        "colab_type": "code",
        "colab": {}
      },
      "source": [
        "model.save('cats_and_dogs_small_1.h5')\n"
      ],
      "execution_count": 0,
      "outputs": []
    },
    {
      "cell_type": "markdown",
      "metadata": {
        "id": "nSYxOCDz09Wo",
        "colab_type": "text"
      },
      "source": [
        "### 5.2.5 Using data augmentation"
      ]
    },
    {
      "cell_type": "code",
      "metadata": {
        "id": "5ulvRRhp0_L5",
        "colab_type": "code",
        "colab": {}
      },
      "source": [
        "datagen = ImageDataGenerator(\n",
        "    rotation_range=40,\n",
        "    width_shift_range=0.2,\n",
        "    height_shift_range=0.2,\n",
        "    shear_range=0.2,\n",
        "    zoom_range=0.2,\n",
        "    horizontal_flip=True,\n",
        "    fill_mode='nearest')\n"
      ],
      "execution_count": 0,
      "outputs": []
    },
    {
      "cell_type": "markdown",
      "metadata": {
        "id": "Bqg-I_Fg281u",
        "colab_type": "text"
      },
      "source": [
        "## 5.3 Using a pretrained convnet"
      ]
    },
    {
      "cell_type": "code",
      "metadata": {
        "id": "ph9_ifvg28LB",
        "colab_type": "code",
        "outputId": "d74455f1-9378-4e47-a8f7-7c59f83bad13",
        "colab": {
          "base_uri": "https://localhost:8080/",
          "height": 127
        }
      },
      "source": [
        "from keras.applications import VGG16\n",
        "\n",
        "conv_base = VGG16(\n",
        "    weights='imagenet',         \n",
        "    include_top=False,         # refering to including the densely connected classifer on top of the network\n",
        "    input_shape=(150, 150, 3)\n",
        ")"
      ],
      "execution_count": 0,
      "outputs": [
        {
          "output_type": "stream",
          "text": [
            "WARNING:tensorflow:From /usr/local/lib/python3.6/dist-packages/tensorflow/python/framework/op_def_library.py:263: colocate_with (from tensorflow.python.framework.ops) is deprecated and will be removed in a future version.\n",
            "Instructions for updating:\n",
            "Colocations handled automatically by placer.\n",
            "Downloading data from https://github.com/fchollet/deep-learning-models/releases/download/v0.1/vgg16_weights_tf_dim_ordering_tf_kernels_notop.h5\n",
            "58892288/58889256 [==============================] - 1s 0us/step\n"
          ],
          "name": "stdout"
        }
      ]
    },
    {
      "cell_type": "code",
      "metadata": {
        "id": "E5bx7kfWEI3w",
        "colab_type": "code",
        "outputId": "02f0c24a-4e5d-4b60-aa96-6e7ccde2431e",
        "colab": {
          "base_uri": "https://localhost:8080/",
          "height": 827
        }
      },
      "source": [
        "conv_base.summary()"
      ],
      "execution_count": 0,
      "outputs": [
        {
          "output_type": "stream",
          "text": [
            "_________________________________________________________________\n",
            "Layer (type)                 Output Shape              Param #   \n",
            "=================================================================\n",
            "input_1 (InputLayer)         (None, 150, 150, 3)       0         \n",
            "_________________________________________________________________\n",
            "block1_conv1 (Conv2D)        (None, 150, 150, 64)      1792      \n",
            "_________________________________________________________________\n",
            "block1_conv2 (Conv2D)        (None, 150, 150, 64)      36928     \n",
            "_________________________________________________________________\n",
            "block1_pool (MaxPooling2D)   (None, 75, 75, 64)        0         \n",
            "_________________________________________________________________\n",
            "block2_conv1 (Conv2D)        (None, 75, 75, 128)       73856     \n",
            "_________________________________________________________________\n",
            "block2_conv2 (Conv2D)        (None, 75, 75, 128)       147584    \n",
            "_________________________________________________________________\n",
            "block2_pool (MaxPooling2D)   (None, 37, 37, 128)       0         \n",
            "_________________________________________________________________\n",
            "block3_conv1 (Conv2D)        (None, 37, 37, 256)       295168    \n",
            "_________________________________________________________________\n",
            "block3_conv2 (Conv2D)        (None, 37, 37, 256)       590080    \n",
            "_________________________________________________________________\n",
            "block3_conv3 (Conv2D)        (None, 37, 37, 256)       590080    \n",
            "_________________________________________________________________\n",
            "block3_pool (MaxPooling2D)   (None, 18, 18, 256)       0         \n",
            "_________________________________________________________________\n",
            "block4_conv1 (Conv2D)        (None, 18, 18, 512)       1180160   \n",
            "_________________________________________________________________\n",
            "block4_conv2 (Conv2D)        (None, 18, 18, 512)       2359808   \n",
            "_________________________________________________________________\n",
            "block4_conv3 (Conv2D)        (None, 18, 18, 512)       2359808   \n",
            "_________________________________________________________________\n",
            "block4_pool (MaxPooling2D)   (None, 9, 9, 512)         0         \n",
            "_________________________________________________________________\n",
            "block5_conv1 (Conv2D)        (None, 9, 9, 512)         2359808   \n",
            "_________________________________________________________________\n",
            "block5_conv2 (Conv2D)        (None, 9, 9, 512)         2359808   \n",
            "_________________________________________________________________\n",
            "block5_conv3 (Conv2D)        (None, 9, 9, 512)         2359808   \n",
            "_________________________________________________________________\n",
            "block5_pool (MaxPooling2D)   (None, 4, 4, 512)         0         \n",
            "=================================================================\n",
            "Total params: 14,714,688\n",
            "Trainable params: 14,714,688\n",
            "Non-trainable params: 0\n",
            "_________________________________________________________________\n"
          ],
          "name": "stdout"
        }
      ]
    },
    {
      "cell_type": "markdown",
      "metadata": {
        "id": "Mif-8PAtUL8R",
        "colab_type": "text"
      },
      "source": [
        "## 5.4 Visualizing what convnets learn"
      ]
    },
    {
      "cell_type": "markdown",
      "metadata": {
        "id": "sf2Rez9Vgv2r",
        "colab_type": "text"
      },
      "source": [
        "### 5.4.2 Visualizing convnet filters"
      ]
    },
    {
      "cell_type": "code",
      "metadata": {
        "id": "eVVObO94EZ8e",
        "colab_type": "code",
        "colab": {}
      },
      "source": [
        "from keras.applications import VGG16 \n",
        "from keras import backend as K\n",
        "model = VGG16(weights='imagenet', include_top=False)\n",
        "layer_name = 'block3_conv1' \n",
        "filter_index = 0\n",
        "layer_output = model.get_layer(layer_name).output \n",
        "loss = K.mean(layer_output[:, :, :, filter_index])\n"
      ],
      "execution_count": 0,
      "outputs": []
    },
    {
      "cell_type": "code",
      "metadata": {
        "id": "GX30zosBhkPW",
        "colab_type": "code",
        "colab": {}
      },
      "source": [
        "grads = K.gradients(loss, model.input)[0]"
      ],
      "execution_count": 0,
      "outputs": []
    },
    {
      "cell_type": "code",
      "metadata": {
        "id": "bPnPpdWnjC99",
        "colab_type": "code",
        "colab": {}
      },
      "source": [
        "grads /= (K.sqrt(K.mean(K.square(grads))) + 1e-5)"
      ],
      "execution_count": 0,
      "outputs": []
    },
    {
      "cell_type": "code",
      "metadata": {
        "id": "UPQOdbhkjMFr",
        "colab_type": "code",
        "colab": {}
      },
      "source": [
        "iterate = K.function([model.input], [loss, grads])\n",
        "import numpy as np \n",
        "loss_value, grads_value = iterate([np.zeros((1, 150, 150, 3))])\n"
      ],
      "execution_count": 0,
      "outputs": []
    },
    {
      "cell_type": "code",
      "metadata": {
        "id": "yo-ZEAtDjUxM",
        "colab_type": "code",
        "colab": {}
      },
      "source": [
        "input_img_data = np.random.random((1, 150, 150, 3)) * 20 + 128."
      ],
      "execution_count": 0,
      "outputs": []
    },
    {
      "cell_type": "code",
      "metadata": {
        "id": "puVJYua9jcKZ",
        "colab_type": "code",
        "colab": {}
      },
      "source": [
        "step = 1. \n",
        "for i in range(40): \n",
        "    loss_value, grads_value = iterate([input_img_data])\n",
        "    input_img_data += grads_value * step\n"
      ],
      "execution_count": 0,
      "outputs": []
    },
    {
      "cell_type": "code",
      "metadata": {
        "id": "snwxzOIgjjL0",
        "colab_type": "code",
        "colab": {}
      },
      "source": [
        "def deprocess_image(x): \n",
        "    x -= x.mean() \n",
        "    x /= (x.std() + 1e-5) \n",
        "    x *= 0.1\n",
        "\n",
        "    x += 0.5 \n",
        "    x = np.clip(x, 0, 1)\n",
        "\n",
        "    x *= 255 \n",
        "    x = np.clip(x, 0, 255).astype('uint8') \n",
        "    return x\n"
      ],
      "execution_count": 0,
      "outputs": []
    },
    {
      "cell_type": "code",
      "metadata": {
        "id": "5TeTEdgAjwpK",
        "colab_type": "code",
        "colab": {}
      },
      "source": [
        "def generate_pattern(layer_name, filter_index, size=150): \n",
        "    layer_output = model.get_layer(layer_name).output \n",
        "    loss = K.mean(layer_output[:, :, :, filter_index])\n",
        "\n",
        "    grads = K.gradients(loss, model.input)[0]\n",
        "    grads /= (K.sqrt(K.mean(K.square(grads))) + 1e-5)\n",
        "\n",
        "    iterate = K.function([model.input], [loss, grads])\n",
        "    input_img_data = np.random.random((1, size, size, 3)) * 20 + 128.\n",
        "\n",
        "    step = 1. \n",
        "    for i in range(40): \n",
        "        loss_value, grads_value = iterate([input_img_data]) \n",
        "        input_img_data += grads_value * step\n",
        "\n",
        "    img = input_img_data[0] \n",
        "    return deprocess_image(img)"
      ],
      "execution_count": 0,
      "outputs": []
    },
    {
      "cell_type": "code",
      "metadata": {
        "id": "fFGXZ7qykQ4T",
        "colab_type": "code",
        "outputId": "f54f0ae9-a43b-4448-e6b5-2583e5b04906",
        "colab": {
          "base_uri": "https://localhost:8080/",
          "height": 287
        }
      },
      "source": [
        "import matplotlib.pyplot as plt\n",
        "plt.imshow(generate_pattern('block3_conv1', 0))"
      ],
      "execution_count": 0,
      "outputs": [
        {
          "output_type": "execute_result",
          "data": {
            "text/plain": [
              "<matplotlib.image.AxesImage at 0x7f7a261ae6a0>"
            ]
          },
          "metadata": {
            "tags": []
          },
          "execution_count": 20
        },
        {
          "output_type": "display_data",
          "data": {
            "image/png": "[encoded data removed]",
            "text/plain": [
              "<Figure size 432x288 with 1 Axes>"
            ]
          },
          "metadata": {
            "tags": []
          }
        }
      ]
    },
    {
      "cell_type": "code",
      "metadata": {
        "id": "AYbsFaczkTL0",
        "colab_type": "code",
        "colab": {}
      },
      "source": [
        "layer_name = 'block1_conv1' \n",
        "size = 64 \n",
        "margin = 5\n",
        "\n",
        "results = np.zeros((8 * size+7*margin, 8 * size+7*margin, 3))\n",
        "\n",
        "for i in range(8): \n",
        "    for j in range(8): \n",
        "        filter_img = generate_pattern(layer_name, i + (j * 8), size=size)\n",
        "\n",
        "        horizontal_start = i * size + i *margin \n",
        "        horizontal_end = horizontal_start + size \n",
        "        vertical_start = j * size + j *margin \n",
        "        vertical_end = vertical_start + size \n",
        "        results[horizontal_start: horizontal_end, \n",
        "                vertical_start: vertical_end, :] = filter_img\n",
        "plt.figure(figsize=(20, 20)) \n",
        "plt.imshow(results)"
      ],
      "execution_count": 0,
      "outputs": []
    },
    {
      "cell_type": "markdown",
      "metadata": {
        "id": "juzeN8mPmllp",
        "colab_type": "text"
      },
      "source": [
        "### 5.4.3 Visualizing heatmaps of class activation"
      ]
    },
    {
      "cell_type": "code",
      "metadata": {
        "id": "pjdL9g7ZmlS2",
        "colab_type": "code",
        "outputId": "fa6f2e16-9f93-4e98-8793-da007960fd1b",
        "colab": {
          "base_uri": "https://localhost:8080/",
          "height": 73
        }
      },
      "source": [
        "from keras.applications.vgg16 import VGG16\n",
        "model = VGG16(weights='imagenet')"
      ],
      "execution_count": 0,
      "outputs": [
        {
          "output_type": "stream",
          "text": [
            "Downloading data from https://github.com/fchollet/deep-learning-models/releases/download/v0.1/vgg16_weights_tf_dim_ordering_tf_kernels.h5\n",
            "553467904/553467096 [==============================] - 6s 0us/step\n"
          ],
          "name": "stdout"
        }
      ]
    },
    {
      "cell_type": "code",
      "metadata": {
        "id": "9zesHnj_m2Ab",
        "colab_type": "code",
        "colab": {}
      },
      "source": [
        "african_elephant_output = model.output[:, 386]\n",
        "last_conv_layer = model.get_layer('block5_conv3')"
      ],
      "execution_count": 0,
      "outputs": []
    },
    {
      "cell_type": "code",
      "metadata": {
        "id": "W5eMGuhmnSOw",
        "colab_type": "code",
        "colab": {}
      },
      "source": [
        "grads = K.gradients(african_elephant_output, last_conv_layer.output)[0]\n",
        "pooled_grads = K.mean(grads, axis=(0, 1, 2))\n",
        "iterate = K.function([model.input],\n",
        "                     [pooled_grads, last_conv_layer.output[0]])\n",
        "pooled_grads_value, conv_layer_output_value = iterate([x])\n",
        "for i in range(512): conv_layer_output_value[:, :, i] *= pooled_grads_value[i]\n",
        "heatmap = np.mean(conv_layer_output_value, axis=-1)\n"
      ],
      "execution_count": 0,
      "outputs": []
    },
    {
      "cell_type": "code",
      "metadata": {
        "id": "SQCxETSfnZqW",
        "colab_type": "code",
        "colab": {}
      },
      "source": [
        ""
      ],
      "execution_count": 0,
      "outputs": []
    }
  ]
}